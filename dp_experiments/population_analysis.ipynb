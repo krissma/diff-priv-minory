{
 "cells": [
  {
   "cell_type": "code",
   "execution_count": null,
   "metadata": {},
   "outputs": [],
   "source": [
    "import pandas as pd\n",
    "from process_bulk import ProcessBulk\n",
    "import evaluation_helpers\n",
    "from process_geography import Ward, LocalAuthority\n",
    "import os\n",
    "from copy import deepcopy\n",
    "import create_plots"
   ]
  },
  {
   "cell_type": "code",
   "execution_count": null,
   "metadata": {},
   "outputs": [],
   "source": [
    "pd.options.mode.copy_on_write = True\n",
    "pd.set_option(\"future.no_silent_downcasting\", True)"
   ]
  },
  {
   "cell_type": "code",
   "execution_count": null,
   "metadata": {},
   "outputs": [],
   "source": [
    "bulk_folder_name = \"bulk_data\"\n",
    "ward_folder_name_tenure = \"dc4201ew_htward\"\n",
    "index_sheet_name = \"Cell Numbered DC Tables 3.2.xlsx\"\n",
    "\n",
    "cl_folder_name = \"confidence_intervals\"\n",
    "cl_sheet_name = \"2011censusconfidenceintervalsdec2013_tcm77-271638.xlsx\"\n",
    "cl_table_name = \"95% CI widths (LA level)\"\n",
    "\n",
    "fig_folder_name = \"figs/population_analysis\"\n",
    "\n",
    "p_cl = ProcessBulk(bulk_folder=cl_folder_name, index_sheet=cl_sheet_name)\n",
    "\n",
    "p = ProcessBulk(bulk_folder=bulk_folder_name, index_sheet=index_sheet_name)\n",
    "\n",
    "# Tenure by ethnic group by age - Household Reference Persons\n",
    "table_name_tenure = \"DC4201EW\""
   ]
  },
  {
   "cell_type": "code",
   "execution_count": null,
   "metadata": {},
   "outputs": [],
   "source": [
    "# list of ethnicities for filtering\n",
    "general_ethnicities = [\n",
    "    \"White: Total\",\n",
    "    \"Mixed/multiple ethnic group: Total\",\n",
    "    \"Asian/Asian British: Total\",\n",
    "    \"Black/African/Caribbean/Black British: Total\",\n",
    "    \"Other ethnic group: Total\",\n",
    "]\n",
    "detailed_ethnicities = [\n",
    "    \"White: English/Welsh/Scottish/Northern Irish/British\",\n",
    "    \"White: Irish\",\n",
    "    \"White: Gypsy or Irish Traveller\",\n",
    "    \"White: Other White\",\n",
    "    \"Mixed/multiple ethnic group: White and Black Caribbean\",\n",
    "    \"Mixed/multiple ethnic group: White and Black African\",\n",
    "    \"Mixed/multiple ethnic group: White and Asian\",\n",
    "    \"Mixed/multiple ethnic group: Other Mixed\",\n",
    "    \"Asian/Asian British: Indian\",\n",
    "    \"Asian/Asian British: Pakistani\",\n",
    "    \"Asian/Asian British: Bangladeshi\",\n",
    "    \"Asian/Asian British: Chinese\",\n",
    "    \"Asian/Asian British: Other Asian\",\n",
    "    \"Black/African/Caribbean/Black British: African\",\n",
    "    \"Black/African/Caribbean/Black British: Caribbean\",\n",
    "    \"Black/African/Caribbean/Black British: Other Black\",\n",
    "    \"Other ethnic group: Arab\",\n",
    "    \"Other ethnic group: Any other ethnic group\",\n",
    "]\n",
    "\n",
    "\n",
    "detailed_ethnicities_simplified = [\n",
    "    \"White: English/Welsh/Scottish/Northern Irish/British\",\n",
    "    \"White: Irish\",\n",
    "    \"White: Gypsy or Irish Traveller\",\n",
    "    \"Other White\",\n",
    "    \"White and Black Caribbean\",\n",
    "    \"White and Black African\",\n",
    "    \"White and Asian\",\n",
    "    \"Mixed/multiple ethnic group: Other Mixed\",\n",
    "    \"Indian\",\n",
    "    \"Pakistani\",\n",
    "    \"Bangladeshi\",\n",
    "    \"Chinese\",\n",
    "    \"Other Asian\",\n",
    "    \"African\",\n",
    "    \"Caribbean\",\n",
    "    \"Other Black\",\n",
    "    \"Arab\",\n",
    "    \"Any other ethnic group\",\n",
    "]\n",
    "\n",
    "# list of tenure categories for filtering\n",
    "all_tenure = [\n",
    "    \"All categories: Tenure\",\n",
    "    \"Owned or shared ownership: Total\",\n",
    "    \"Owned: Owned outright\",\n",
    "    \"Owned: Owned with a mortgage or loan or shared ownership\",\n",
    "    \"Social rented: Total\",\n",
    "    \"Social rented: Rented from council (Local Authority)\",\n",
    "    \"Social rented: Other social rented\",\n",
    "    \"Private rented or living rent free: Total\",\n",
    "    \"Private rented: Private landlord or letting agency\",\n",
    "    \"Private rented: Other private rented or living rent free\",\n",
    "]\n",
    "general_tenure = [\n",
    "    \"Owned or shared ownership: Total\",\n",
    "    \"Social rented: Total\",\n",
    "    \"Private rented or living rent free: Total\",\n",
    "]\n",
    "detailed_tenure = [\n",
    "    \"Owned: Owned outright\",\n",
    "    \"Owned: Owned with a mortgage or loan or shared ownership\",\n",
    "    \"Social rented: Rented from council (Local Authority)\",\n",
    "    \"Social rented: Other social rented\",\n",
    "    \"Private rented: Private landlord or letting agency\",\n",
    "    \"Private rented: Other private rented or living rent free\",\n",
    "]"
   ]
  },
  {
   "cell_type": "code",
   "execution_count": null,
   "metadata": {},
   "outputs": [],
   "source": [
    "mus = [1.0, 0.5, 0.1, 0.01, 0.001, 0.0001]\n",
    "epsilons = [0.001, 0.01, 0.1, 1, 3, 5, 10]\n",
    "epsilons_short = [0.001, 0.01, 0.1, 1]"
   ]
  },
  {
   "cell_type": "code",
   "execution_count": null,
   "metadata": {},
   "outputs": [],
   "source": [
    "column_names = [\"Age\", \"Tenure\", \"EthnicGroup\", \"Dataset\"]\n",
    "\n",
    "dfs_ward = p.set_up(\n",
    "    table_name=table_name_tenure,\n",
    "    df_type=\"nested\",\n",
    "    column_names=column_names,\n",
    "    num_nested_category=10,\n",
    "    subfolder=ward_folder_name_tenure,\n",
    "    level=6,\n",
    ")\n",
    "dfs_la = p.set_up(\n",
    "    table_name=table_name_tenure,\n",
    "    df_type=\"nested\",\n",
    "    column_names=column_names,\n",
    "    num_nested_category=10,\n",
    "    subfolder=ward_folder_name_tenure,\n",
    "    level=5,\n",
    ")"
   ]
  },
  {
   "cell_type": "code",
   "execution_count": null,
   "metadata": {},
   "outputs": [],
   "source": [
    "ward = Ward()\n",
    "local_authority = LocalAuthority()\n",
    "# geo lookup file is the same for region and ward\n",
    "geo_lookup = ward.get_geo_lookup_ward()"
   ]
  },
  {
   "cell_type": "code",
   "execution_count": null,
   "metadata": {},
   "outputs": [],
   "source": [
    "# colorschemes from https://personal.sron.nl/~pault/#fig:scheme_bright\n",
    "\n",
    "colors_3 = [\"#004488\", \"#DDAA33\", \"#BB5566\"]\n",
    "colors_4 = [\"#004488\", \"#DDAA33\", \"#BB5566\", \"#1B7837\"]\n",
    "colors_bright = [\n",
    "    \"#4477AA\",\n",
    "    \"#EE6677\",\n",
    "    \"#228833\",\n",
    "    \"#CCBB44\",\n",
    "    \"#66CCEE\",\n",
    "    \"#AA3377\",\n",
    "    \"#BBBBBB\",\n",
    "]\n",
    "colors_vibrant = [\n",
    "    \"#EE7733\",\n",
    "    \"#0077BB\",\n",
    "    \"#33BBEE\",\n",
    "    \"#EE3377\",\n",
    "    \"#CC3311\",\n",
    "    \"#009988\",\n",
    "    \"#BBBBBB\",\n",
    "]\n",
    "colors_muted = [\n",
    "    \"#CC6677\",\n",
    "    \"#332288\",\n",
    "    \"#DDCC77\",\n",
    "    \"#117733\",\n",
    "    \"#88CCEE\",\n",
    "    \"#882255\",\n",
    "    \"#44AA99\",\n",
    "    \"#999933\",\n",
    "    \"#AA4499\",\n",
    "]\n",
    "\n",
    "colors_grey = [\"#EF233C\", \"#B7BFCC\", \"#8894AA\", \"#2B2F42\"]"
   ]
  },
  {
   "cell_type": "code",
   "execution_count": null,
   "metadata": {},
   "outputs": [],
   "source": [
    "# reading in the confidence intervals for all local authorities\n",
    "sheet_cl = p_cl.read_cl(cl_table_name)"
   ]
  },
  {
   "cell_type": "code",
   "execution_count": null,
   "metadata": {},
   "outputs": [],
   "source": [
    "df_la = local_authority.get_local_authority(dfs_la[\"csv_df\"], geo_lookup)"
   ]
  },
  {
   "cell_type": "code",
   "execution_count": null,
   "metadata": {},
   "outputs": [],
   "source": [
    "df_ward = ward.get_ward(dfs_ward[\"csv_df\"], geo_lookup)"
   ]
  },
  {
   "cell_type": "code",
   "execution_count": null,
   "metadata": {},
   "outputs": [],
   "source": [
    "\"\"\" filter_dict_ward = {\n",
    "    \"Age\": [\"All categories: Age\"],\n",
    "    \"Tenure\": [\"All categories: Tenure\"],\n",
    "    \"EthnicGroup\": detailed_ethnicities,\n",
    "}\n",
    "\n",
    "ward_codes = df_ward[\"GeographyCode\"].tolist()\n",
    "\n",
    "wards = evaluation_helpers.get_filtered_df_ward_dict(\n",
    "    p, ward, df_ward, ward_codes, dfs_ward[\"lookup_df\"], filter_dict_ward\n",
    ") \"\"\""
   ]
  },
  {
   "cell_type": "code",
   "execution_count": null,
   "metadata": {},
   "outputs": [],
   "source": [
    "#overview_wards = evaluation_helpers.create_overview(wards)\n",
    "#overview_wards"
   ]
  },
  {
   "cell_type": "code",
   "execution_count": null,
   "metadata": {},
   "outputs": [],
   "source": [
    "overview_wards = pd.read_csv(os.path.join(p.get_bulk_data_path(), \"overview_wards.csv\"))\n",
    "# overview_wards"
   ]
  },
  {
   "cell_type": "code",
   "execution_count": null,
   "metadata": {},
   "outputs": [],
   "source": [
    "overview_wards.sort_values(by=[\"total\"], ascending=False, inplace=True)\n",
    "overview_wards_england = overview_wards[overview_wards[\"area_code\"].str.startswith(\"E\")]\n",
    "overview_wards_england"
   ]
  },
  {
   "cell_type": "code",
   "execution_count": null,
   "metadata": {},
   "outputs": [],
   "source": [
    "minorities_wards = overview_wards.groupby(\"number_minorities\")[\"area_name\"].count()\n",
    "# minorities_wards"
   ]
  },
  {
   "cell_type": "markdown",
   "metadata": {},
   "source": [
    "Choosing 3 wards with approximately the same population total with different levels of minority populations. Here I classify wards where the number of minority populations is below 5 as low diversity, between 6-10 a ward has medium diversity and above that, a ward has high diversity. "
   ]
  },
  {
   "cell_type": "code",
   "execution_count": null,
   "metadata": {},
   "outputs": [],
   "source": [
    "low = overview_wards.loc[\n",
    "    (overview_wards[\"number_minorities\"] <= 5)\n",
    "    & (overview_wards[\"total\"] < 1200)\n",
    "    & (overview_wards[\"total\"] > 1100)\n",
    "]\n",
    "#low.sort_values(by=[\"total\"], ascending=False, inplace=True)\n",
    "low"
   ]
  },
  {
   "cell_type": "code",
   "execution_count": null,
   "metadata": {},
   "outputs": [],
   "source": [
    "medium = overview_wards.loc[\n",
    "    (overview_wards[\"number_minorities\"] <= 10)\n",
    "    & (overview_wards[\"number_minorities\"] > 5)\n",
    "    & (overview_wards[\"total\"] < 1200)\n",
    "    & (overview_wards[\"total\"] > 1100)\n",
    "]\n",
    "# medium.loc[medium['area_code'] == 'E36000439']\n",
    "medium"
   ]
  },
  {
   "cell_type": "code",
   "execution_count": null,
   "metadata": {},
   "outputs": [],
   "source": [
    "medium_total = overview_wards.loc[\n",
    "    (overview_wards[\"number_minorities\"] <= 10)\n",
    "    & (overview_wards[\"number_minorities\"] > 5)\n",
    "]\n",
    "medium_total.sort_values(by=[\"total\"], ascending=True, inplace=True)\n",
    "medium_total"
   ]
  },
  {
   "cell_type": "code",
   "execution_count": null,
   "metadata": {},
   "outputs": [],
   "source": [
    "high = overview_wards.loc[\n",
    "    (overview_wards[\"number_minorities\"] > 10)\n",
    "    & (overview_wards[\"total\"] < 1200)\n",
    "    & (overview_wards[\"total\"] > 1100)\n",
    "]\n",
    "high"
   ]
  },
  {
   "cell_type": "markdown",
   "metadata": {},
   "source": [
    "Now I load the 3 wards I have chosen. "
   ]
  },
  {
   "cell_type": "code",
   "execution_count": null,
   "metadata": {},
   "outputs": [],
   "source": [
    "filter_dict_ward = {\n",
    "    \"Age\": [\"All categories: Age\"],\n",
    "    \"Tenure\": [\"All categories: Tenure\"],\n",
    "    \"EthnicGroup\": detailed_ethnicities,\n",
    "}\n",
    "\n",
    "# ward codes of the 3 wards I have chosen for analysis\n",
    "ward_codes = [\"E36002358\", \"E36000439\", \"E36003322\"]\n",
    "\n",
    "wards = evaluation_helpers.get_filtered_df_ward_dict(\n",
    "    p, ward, df_ward, ward_codes, dfs_ward[\"lookup_df\"], filter_dict_ward\n",
    ")"
   ]
  },
  {
   "cell_type": "markdown",
   "metadata": {},
   "source": [
    "For the following experiments, random state is used to achieve deterministic behaviour. By doing this, dp with different kinds of post-processing can be compared.\n",
    "By using random_state, the same amount of DP noise is applied to the data error column and to the ground truth data. "
   ]
  },
  {
   "cell_type": "code",
   "execution_count": null,
   "metadata": {},
   "outputs": [],
   "source": [
    "wards_dp_geo_clip, metrics_df_geo_clip = evaluation_helpers.set_up_measurements_wards(\n",
    "    wards,\n",
    "    df_ward,\n",
    "    sheet_cl,\n",
    "    \"geometric\",\n",
    "    epsilons,\n",
    "    delta=0,\n",
    "    sensitivity=2,\n",
    "    clipping=True,\n",
    "    rounding=False,\n",
    "    random_state=1,\n",
    ")"
   ]
  },
  {
   "cell_type": "code",
   "execution_count": null,
   "metadata": {},
   "outputs": [],
   "source": [
    "wards_dp_geo, metrics_df_geo = evaluation_helpers.set_up_measurements_wards(\n",
    "    wards,\n",
    "    df_ward,\n",
    "    sheet_cl,\n",
    "    \"geometric\",\n",
    "    epsilons,\n",
    "    delta=0,\n",
    "    sensitivity=2,\n",
    "    clipping=False,\n",
    "    rounding=False,\n",
    "    random_state=1,\n",
    ")"
   ]
  },
  {
   "cell_type": "code",
   "execution_count": null,
   "metadata": {},
   "outputs": [],
   "source": [
    "metrics_df_geo_clip_short = metrics_df_geo_clip[\n",
    "    metrics_df_geo_clip.index.isin(epsilons_short)\n",
    "]\n",
    "metrics_df_geo_short = metrics_df_geo[metrics_df_geo.index.isin(epsilons_short)]\n",
    "# metrics_df_geo_clip_short"
   ]
  },
  {
   "cell_type": "code",
   "execution_count": null,
   "metadata": {},
   "outputs": [],
   "source": [
    "table_features_data_error = [\n",
    "    \"significantly_decreased_data_error\",\n",
    "    \"significantly_increased_data_error\",\n",
    "]\n",
    "table_features_dp = [\"significantly_decreased\", \"significantly_increased\"]\n",
    "table_features_data_error_dp = [\n",
    "    \"significantly_decreased_data_error_dp\",\n",
    "    \"significantly_increased_data_error_dp\",\n",
    "]"
   ]
  },
  {
   "cell_type": "code",
   "execution_count": null,
   "metadata": {},
   "outputs": [],
   "source": [
    "table_features_pop_data_error = [\"total_data_error\"]\n",
    "table_features_pop_dp = [\"total_dp\"]\n",
    "table_features_pop = [\"total\"]\n",
    "table_features_pop_data_error_dp = [\"total_data_error_dp\"]"
   ]
  },
  {
   "cell_type": "code",
   "execution_count": null,
   "metadata": {},
   "outputs": [],
   "source": [
    "create_plots.create_table_pop(\n",
    "    table_features_pop,\n",
    "    table_features_pop_dp,\n",
    "    table_features_pop_data_error,\n",
    "    table_features_pop_data_error_dp,\n",
    "    metrics_df_geo_clip,\n",
    "    metrics_df_geo,\n",
    "    epsilons_short,\n",
    ")"
   ]
  },
  {
   "cell_type": "code",
   "execution_count": null,
   "metadata": {},
   "outputs": [],
   "source": [
    "create_plots.create_table_pop_2(\n",
    "    table_features_pop,\n",
    "    table_features_pop_dp,\n",
    "    table_features_pop_data_error,\n",
    "    table_features_pop_data_error_dp,\n",
    "    metrics_df_geo_clip,\n",
    "    metrics_df_geo,\n",
    "    epsilons_short,\n",
    ")"
   ]
  },
  {
   "cell_type": "code",
   "execution_count": null,
   "metadata": {},
   "outputs": [],
   "source": [
    "create_plots.create_table_dp(\n",
    "    table_features_dp, metrics_df_geo_clip, metrics_df_geo, epsilons_short\n",
    ")"
   ]
  },
  {
   "cell_type": "code",
   "execution_count": null,
   "metadata": {},
   "outputs": [],
   "source": [
    "create_plots.create_table_dp_data_error(\n",
    "    table_features_dp,\n",
    "    table_features_data_error,\n",
    "    metrics_df_geo_clip,\n",
    "    metrics_df_geo,\n",
    "    epsilons_short,\n",
    ")"
   ]
  },
  {
   "cell_type": "markdown",
   "metadata": {},
   "source": [
    "KL-divergence can only be measured if clipping is applied, since it is a measure of probability distributions. If clipping is not applied, values can be negative, leading to negative probabilities in the probability distribution, therefore I only measure KL-divergence is clipping is used. "
   ]
  },
  {
   "cell_type": "code",
   "execution_count": null,
   "metadata": {},
   "outputs": [],
   "source": [
    "measurement_kl_divergence_df_geo_clip = evaluation_helpers.measure_kl_divergence(\n",
    "    wards_dp_geo_clip, epsilons, mus\n",
    ")"
   ]
  },
  {
   "cell_type": "code",
   "execution_count": null,
   "metadata": {},
   "outputs": [],
   "source": [
    "wards_dp_laplace_clip, metrics_df_laplace_clip = (\n",
    "    evaluation_helpers.set_up_measurements_wards(\n",
    "        wards,\n",
    "        df_ward,\n",
    "        sheet_cl,\n",
    "        \"laplace\",\n",
    "        epsilons,\n",
    "        delta=0,\n",
    "        sensitivity=2,\n",
    "        clipping=True,\n",
    "        rounding=False,\n",
    "        random_state=1,\n",
    "    )\n",
    ")\n",
    "\n",
    "measurement_kl_divergence_df_laplace_clip = evaluation_helpers.measure_kl_divergence(\n",
    "    wards_dp_laplace_clip, epsilons, mus\n",
    ")"
   ]
  },
  {
   "cell_type": "code",
   "execution_count": null,
   "metadata": {},
   "outputs": [],
   "source": [
    "wards_dp_laplace, metrics_df_laplace = evaluation_helpers.set_up_measurements_wards(\n",
    "    wards,\n",
    "    df_ward,\n",
    "    sheet_cl,\n",
    "    \"laplace\",\n",
    "    epsilons,\n",
    "    delta=0,\n",
    "    sensitivity=2,\n",
    "    clipping=False,\n",
    "    rounding=False,\n",
    "    random_state=1,\n",
    ")"
   ]
  },
  {
   "cell_type": "code",
   "execution_count": null,
   "metadata": {},
   "outputs": [],
   "source": [
    "wards_dp_laplace_round, metrics_df_laplace_round = (\n",
    "    evaluation_helpers.set_up_measurements_wards(\n",
    "        wards,\n",
    "        df_ward,\n",
    "        sheet_cl,\n",
    "        \"laplace\",\n",
    "        epsilons,\n",
    "        delta=0,\n",
    "        sensitivity=2,\n",
    "        clipping=False,\n",
    "        rounding=True,\n",
    "        random_state=1,\n",
    "    )\n",
    ")"
   ]
  },
  {
   "cell_type": "code",
   "execution_count": null,
   "metadata": {},
   "outputs": [],
   "source": [
    "wards_dp_laplace_round_clip, metrics_df_laplace_round_clip = (\n",
    "    evaluation_helpers.set_up_measurements_wards(\n",
    "        wards,\n",
    "        df_ward,\n",
    "        sheet_cl,\n",
    "        \"laplace\",\n",
    "        epsilons,\n",
    "        delta=0,\n",
    "        sensitivity=2,\n",
    "        clipping=True,\n",
    "        rounding=True,\n",
    "        random_state=1,\n",
    "    )\n",
    ")\n",
    "measurement_kl_divergence_df_laplace_round_clip = (\n",
    "    evaluation_helpers.measure_kl_divergence(wards_dp_laplace_round_clip, epsilons, mus)\n",
    ")"
   ]
  },
  {
   "cell_type": "code",
   "execution_count": null,
   "metadata": {},
   "outputs": [],
   "source": [
    "measurement_kl_divergence_df_geo_clip_short = measurement_kl_divergence_df_geo_clip[\n",
    "    measurement_kl_divergence_df_geo_clip.index.isin(epsilons_short, level=0)\n",
    "]"
   ]
  },
  {
   "cell_type": "code",
   "execution_count": null,
   "metadata": {},
   "outputs": [],
   "source": [
    "measurement_kl_divergence_df_laplace_clip_short = (\n",
    "    measurement_kl_divergence_df_laplace_clip[\n",
    "        measurement_kl_divergence_df_laplace_clip.index.isin(epsilons_short, level=0)\n",
    "    ]\n",
    ")"
   ]
  },
  {
   "cell_type": "code",
   "execution_count": null,
   "metadata": {},
   "outputs": [],
   "source": [
    "measurement_kl_divergence_df_laplace_round_clip = (\n",
    "    evaluation_helpers.measure_kl_divergence(wards_dp_laplace_round_clip, epsilons, mus)\n",
    ")\n",
    "measurement_kl_divergence_df_laplace_round_clip_short = (\n",
    "    measurement_kl_divergence_df_laplace_round_clip[\n",
    "        measurement_kl_divergence_df_laplace_round_clip.index.isin(\n",
    "            epsilons_short, level=0\n",
    "        )\n",
    "    ]\n",
    ")"
   ]
  },
  {
   "cell_type": "code",
   "execution_count": null,
   "metadata": {},
   "outputs": [],
   "source": [
    "metrics_df_laplace_clip_short = metrics_df_laplace_clip[\n",
    "    metrics_df_laplace_clip.index.isin(epsilons_short)\n",
    "]\n",
    "metrics_df_laplace_short = metrics_df_laplace[\n",
    "    metrics_df_laplace.index.isin(epsilons_short)\n",
    "]\n",
    "metrics_df_laplace_round_short = metrics_df_laplace_round[\n",
    "    metrics_df_laplace_round.index.isin(epsilons_short)\n",
    "]\n",
    "metrics_df_laplace_round_clip_short = metrics_df_laplace_round_clip[\n",
    "    metrics_df_laplace_round_clip.index.isin(epsilons_short)\n",
    "]"
   ]
  },
  {
   "cell_type": "code",
   "execution_count": null,
   "metadata": {},
   "outputs": [],
   "source": [
    "labels_wards = []\n",
    "for i, code in enumerate(ward_codes):\n",
    "    area_name = measurement_kl_divergence_df_geo_clip_short.loc[\n",
    "        measurement_kl_divergence_df_geo_clip_short.area_code == code, \"area_name\"\n",
    "    ].values[0]\n",
    "    diversity = measurement_kl_divergence_df_geo_clip_short.loc[\n",
    "        measurement_kl_divergence_df_geo_clip_short.area_code == code, \"diversity\"\n",
    "    ].values[0]\n",
    "    labels_wards.append(f\"{area_name} ({diversity} diversity)\")\n",
    "\n",
    "print(labels_wards)"
   ]
  },
  {
   "cell_type": "code",
   "execution_count": null,
   "metadata": {},
   "outputs": [],
   "source": [
    "labels_geo = []\n",
    "for i, code in enumerate(ward_codes):\n",
    "    area_name = measurement_kl_divergence_df_geo_clip_short.loc[\n",
    "        measurement_kl_divergence_df_geo_clip_short.area_code == code, \"area_name\"\n",
    "    ].values[0]\n",
    "    diversity = measurement_kl_divergence_df_geo_clip_short.loc[\n",
    "        measurement_kl_divergence_df_geo_clip_short.area_code == code, \"diversity\"\n",
    "    ].values[0]\n",
    "    labels_geo.append(f\"{area_name} ({diversity} diversity), Geometric\")\n",
    "\n",
    "print(labels_geo)"
   ]
  },
  {
   "cell_type": "code",
   "execution_count": null,
   "metadata": {},
   "outputs": [],
   "source": [
    "labels_laplace = []\n",
    "for i, code in enumerate(ward_codes):\n",
    "    area_name = measurement_kl_divergence_df_geo_clip_short.loc[\n",
    "        measurement_kl_divergence_df_geo_clip_short.area_code == code, \"area_name\"\n",
    "    ].values[0]\n",
    "    diversity = measurement_kl_divergence_df_geo_clip_short.loc[\n",
    "        measurement_kl_divergence_df_geo_clip_short.area_code == code, \"diversity\"\n",
    "    ].values[0]\n",
    "    labels_laplace.append(f\"{area_name} ({diversity} diversity), Laplace\")\n",
    "\n",
    "print(labels_laplace)"
   ]
  },
  {
   "cell_type": "code",
   "execution_count": null,
   "metadata": {},
   "outputs": [],
   "source": [
    "labels_data_error = []\n",
    "for i, code in enumerate(ward_codes):\n",
    "    area_name = measurement_kl_divergence_df_geo_clip_short.loc[\n",
    "        measurement_kl_divergence_df_geo_clip_short.area_code == code, \"area_name\"\n",
    "    ].values[0]\n",
    "    diversity = measurement_kl_divergence_df_geo_clip_short.loc[\n",
    "        measurement_kl_divergence_df_geo_clip_short.area_code == code, \"diversity\"\n",
    "    ].values[0]\n",
    "    labels_data_error.append(f\"{area_name} ({diversity} diversity), Data Error\")\n",
    "\n",
    "print(labels_data_error)"
   ]
  },
  {
   "cell_type": "code",
   "execution_count": null,
   "metadata": {},
   "outputs": [],
   "source": [
    "create_plots.plot_kl_divergence(\n",
    "    colors_3,\n",
    "    measurement_kl_divergence_df_geo_clip_short,\n",
    "    ward_codes,\n",
    "    labels_wards,\n",
    "    fig_folder_name,\n",
    "    \"geo\",\n",
    ")"
   ]
  },
  {
   "cell_type": "code",
   "execution_count": null,
   "metadata": {},
   "outputs": [],
   "source": [
    "create_plots.plot_kl_divergence(\n",
    "    colors_3,\n",
    "    measurement_kl_divergence_df_laplace_round_clip_short,\n",
    "    ward_codes,\n",
    "    labels_wards,\n",
    "    fig_folder_name,\n",
    "    \"laplace\",\n",
    ")"
   ]
  },
  {
   "cell_type": "code",
   "execution_count": null,
   "metadata": {},
   "outputs": [],
   "source": [
    "create_plots.plot_rmse(\n",
    "    colors_4,\n",
    "    metrics_df_geo_short,\n",
    "    metrics_df_geo_clip_short,\n",
    "    metrics_df_laplace_short,\n",
    "    metrics_df_laplace_clip_short,\n",
    "    metrics_df_laplace_round_clip_short,\n",
    "    ward_codes,\n",
    "    labels_wards,\n",
    "    fig_folder_name,\n",
    ")"
   ]
  },
  {
   "cell_type": "code",
   "execution_count": null,
   "metadata": {},
   "outputs": [],
   "source": [
    "create_plots.create_several_bar_plot_pop_dp_on_data_error(\n",
    "    wards=wards_dp_geo_clip,\n",
    "    ethnicities=detailed_ethnicities_simplified,\n",
    "    epsilons=epsilons_short,\n",
    "    colors=colors_grey,\n",
    "    step=4,\n",
    "    width=0.8,\n",
    "    gap=0,\n",
    "    fig_name=\"ethnicities_geometric_overview\",\n",
    "    fig_folder_name=fig_folder_name,\n",
    ")"
   ]
  },
  {
   "cell_type": "code",
   "execution_count": null,
   "metadata": {},
   "outputs": [],
   "source": [
    "create_plots.create_several_bar_plot_pop_dp_on_data_error(\n",
    "    wards=wards_dp_geo,\n",
    "    ethnicities=detailed_ethnicities_simplified,\n",
    "    epsilons=epsilons_short,\n",
    "    colors=colors_grey,\n",
    "    step=4,\n",
    "    width=0.8,\n",
    "    gap=0,\n",
    "    fig_name=\"ethnicities_geometric_overview_no_clipping\",\n",
    "    fig_folder_name=fig_folder_name,\n",
    ")"
   ]
  },
  {
   "cell_type": "code",
   "execution_count": null,
   "metadata": {},
   "outputs": [],
   "source": [
    "create_plots.create_bar_plot_pop_dp_on_data_error(\n",
    "    wards=wards_dp_geo_clip,\n",
    "    ethnicities=detailed_ethnicities_simplified,\n",
    "    epsilons=[0.1],\n",
    "    colors=colors_grey,\n",
    "    step=4,\n",
    "    width=0.8,\n",
    "    gap=0,\n",
    "    fig_name=\"ethnicities_geometric\",\n",
    "    fig_folder_name=fig_folder_name,\n",
    ")"
   ]
  },
  {
   "cell_type": "code",
   "execution_count": null,
   "metadata": {},
   "outputs": [],
   "source": [
    "create_plots.barplot_inc(\n",
    "    0.05,\n",
    "    0.5,\n",
    "    epsilons_short,\n",
    "    metrics_df_geo_clip_short,\n",
    "    ward_codes,\n",
    "    labels_wards,\n",
    "    fig_folder_name,\n",
    ")"
   ]
  },
  {
   "cell_type": "code",
   "execution_count": null,
   "metadata": {},
   "outputs": [],
   "source": [
    "create_plots.barplot_dec(\n",
    "    0.05,\n",
    "    0.5,\n",
    "    epsilons_short,\n",
    "    metrics_df_geo_clip_short,\n",
    "    ward_codes,\n",
    "    labels_wards,\n",
    "    fig_folder_name,\n",
    ")"
   ]
  }
 ],
 "metadata": {
  "kernelspec": {
   "display_name": "data_analysis-lrKLN5mI",
   "language": "python",
   "name": "python3"
  },
  "language_info": {
   "codemirror_mode": {
    "name": "ipython",
    "version": 3
   },
   "file_extension": ".py",
   "mimetype": "text/x-python",
   "name": "python",
   "nbconvert_exporter": "python",
   "pygments_lexer": "ipython3",
   "version": "3.12.4"
  }
 },
 "nbformat": 4,
 "nbformat_minor": 2
}
