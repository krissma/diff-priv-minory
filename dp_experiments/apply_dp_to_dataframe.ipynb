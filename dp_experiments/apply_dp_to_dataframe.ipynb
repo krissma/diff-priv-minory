{
 "cells": [
  {
   "cell_type": "code",
   "execution_count": null,
   "metadata": {},
   "outputs": [],
   "source": [
    "import pandas as pd\n",
    "from process_bulk import ProcessBulk\n",
    "from process_geography import Ward, LocalAuthority\n",
    "import evaluation_helpers\n",
    "import os\n",
    "import diff_priv_dataframe"
   ]
  },
  {
   "cell_type": "code",
   "execution_count": null,
   "metadata": {},
   "outputs": [],
   "source": [
    "pd.options.mode.copy_on_write = True"
   ]
  },
  {
   "cell_type": "code",
   "execution_count": null,
   "metadata": {},
   "outputs": [],
   "source": [
    "mus = [1.0, 0.5, 0.1, 0.01, 0.001, 0.0001]\n",
    "epsilons = [0.001, 0.01, 0.1, 0.5, 1, 3, 5, 10]\n",
    "epsilons_short = [0.001, 0.01, 0.1, 1]\n",
    "\n",
    "diversity_levels = [\"low\", \"medium\", \"high\"]"
   ]
  },
  {
   "cell_type": "code",
   "execution_count": null,
   "metadata": {},
   "outputs": [],
   "source": [
    "bulk_folder_name = \"census_data\"\n",
    "ward_folder_name_tenure = \"dc4201ew_htward\"\n",
    "index_sheet_name = \"Cell Numbered DC Tables 3.2.xlsx\"\n",
    "dp_folder_name = \"datasets_dp\"\n",
    "\n",
    "p = ProcessBulk(bulk_folder=bulk_folder_name, index_sheet=index_sheet_name)\n",
    "\n",
    "# Tenure by ethnic group by age - Household Reference Persons\n",
    "table_name_tenure = \"DC4201EW\""
   ]
  },
  {
   "cell_type": "code",
   "execution_count": null,
   "metadata": {},
   "outputs": [],
   "source": [
    "# list of ethnicities for filtering\n",
    "general_ethnicities = [\n",
    "    \"White: Total\",\n",
    "    \"Mixed/multiple ethnic group: Total\",\n",
    "    \"Asian/Asian British: Total\",\n",
    "    \"Black/African/Caribbean/Black British: Total\",\n",
    "    \"Other ethnic group: Total\",\n",
    "]\n",
    "detailed_ethnicities = [\n",
    "    \"White: English/Welsh/Scottish/Northern Irish/British\",\n",
    "    \"White: Irish\",\n",
    "    \"White: Gypsy or Irish Traveller\",\n",
    "    \"White: Other White\",\n",
    "    \"Mixed/multiple ethnic group: White and Black Caribbean\",\n",
    "    \"Mixed/multiple ethnic group: White and Black African\",\n",
    "    \"Mixed/multiple ethnic group: White and Asian\",\n",
    "    \"Mixed/multiple ethnic group: Other Mixed\",\n",
    "    \"Asian/Asian British: Indian\",\n",
    "    \"Asian/Asian British: Pakistani\",\n",
    "    \"Asian/Asian British: Bangladeshi\",\n",
    "    \"Asian/Asian British: Chinese\",\n",
    "    \"Asian/Asian British: Other Asian\",\n",
    "    \"Black/African/Caribbean/Black British: African\",\n",
    "    \"Black/African/Caribbean/Black British: Caribbean\",\n",
    "    \"Black/African/Caribbean/Black British: Other Black\",\n",
    "    \"Other ethnic group: Arab\",\n",
    "    \"Other ethnic group: Any other ethnic group\",\n",
    "]\n",
    "\n",
    "white = [\"White: English/Welsh/Scottish/Northern Irish/British\"]\n",
    "\n",
    "total_ethnicities = [\"All categories: Ethnic group\"]\n",
    "\n",
    "# list of tenure categories for filtering\n",
    "all_tenure = [\n",
    "    \"All categories: Tenure\",\n",
    "    \"Owned or shared ownership: Total\",\n",
    "    \"Owned: Owned outright\",\n",
    "    \"Owned: Owned with a mortgage or loan or shared ownership\",\n",
    "    \"Social rented: Total\",\n",
    "    \"Social rented: Rented from council (Local Authority)\",\n",
    "    \"Social rented: Other social rented\",\n",
    "    \"Private rented or living rent free: Total\",\n",
    "    \"Private rented: Private landlord or letting agency\",\n",
    "    \"Private rented: Other private rented or living rent free\",\n",
    "]\n",
    "general_tenure = [\n",
    "    \"Owned or shared ownership: Total\",\n",
    "    \"Social rented: Total\",\n",
    "    \"Private rented or living rent free: Total\",\n",
    "]\n",
    "detailed_tenure = [\n",
    "    \"Owned: Owned outright\",\n",
    "    \"Owned: Owned with a mortgage or loan or shared ownership\",\n",
    "    \"Social rented: Rented from council (Local Authority)\",\n",
    "    \"Social rented: Other social rented\",\n",
    "    \"Private rented: Private landlord or letting agency\",\n",
    "    \"Private rented: Other private rented or living rent free\",\n",
    "]\n",
    "\n",
    "detailed_age = [\n",
    "    \"Age 24 and under\",\n",
    "    \"Age 25 to 34\",\n",
    "    \"Age 35 to 49\",\n",
    "    \"Age 50 to 64\",\n",
    "    \"Age 65 to 74\",\n",
    "    \"Age 75 to 84\",\n",
    "    \"Age 85 and over\",\n",
    "]\n",
    "\n",
    "general_age = [\"All categories: Age\"]"
   ]
  },
  {
   "cell_type": "code",
   "execution_count": null,
   "metadata": {},
   "outputs": [],
   "source": [
    "column_names = [\"Age\", \"Tenure\", \"EthnicGroup\", \"Dataset\"]\n",
    "dfs_ward = p.set_up(\n",
    "    table_name=table_name_tenure,\n",
    "    df_type=\"nested\",\n",
    "    column_names=column_names,\n",
    "    num_nested_category=10,\n",
    "    subfolder=ward_folder_name_tenure,\n",
    "    level=6,\n",
    ")\n",
    "dfs_la = p.set_up(\n",
    "    table_name=table_name_tenure,\n",
    "    df_type=\"nested\",\n",
    "    column_names=column_names,\n",
    "    num_nested_category=10,\n",
    "    subfolder=ward_folder_name_tenure,\n",
    "    level=5,\n",
    ")"
   ]
  },
  {
   "cell_type": "code",
   "execution_count": null,
   "metadata": {},
   "outputs": [],
   "source": [
    "ward = Ward()\n",
    "local_authority = LocalAuthority()\n",
    "geo_lookup = ward.get_geo_lookup_ward()"
   ]
  },
  {
   "cell_type": "code",
   "execution_count": null,
   "metadata": {},
   "outputs": [],
   "source": [
    "geo_lookup_birmingham = geo_lookup[geo_lookup[\"LAD11NM\"].str.contains(\"Birmingham\")]\n",
    "\n",
    "# creating list of all ward codes in Birmingham\n",
    "ward_codes = geo_lookup_birmingham[\"CMWD11CD\"].tolist()"
   ]
  },
  {
   "cell_type": "code",
   "execution_count": null,
   "metadata": {},
   "outputs": [],
   "source": [
    "lookup = dfs_ward[\"lookup_df\"]"
   ]
  },
  {
   "cell_type": "code",
   "execution_count": null,
   "metadata": {},
   "outputs": [],
   "source": [
    "csv = dfs_ward[\"csv_df\"]"
   ]
  },
  {
   "cell_type": "code",
   "execution_count": null,
   "metadata": {},
   "outputs": [],
   "source": [
    "filter_dict = {\n",
    "    \"Age\": general_age,\n",
    "    \"Tenure\": detailed_tenure,\n",
    "    \"EthnicGroup\": detailed_ethnicities,\n",
    "}"
   ]
  },
  {
   "cell_type": "code",
   "execution_count": null,
   "metadata": {},
   "outputs": [],
   "source": [
    "reduced_lookup, datasets_reduced, reduced_csv = evaluation_helpers.get_reduced_data(\n",
    "    dfs_ward[\"lookup_df\"], filter_dict, dfs_ward[\"csv_df\"]\n",
    ")"
   ]
  },
  {
   "cell_type": "code",
   "execution_count": null,
   "metadata": {},
   "outputs": [],
   "source": [
    "df_ward = ward.get_ward(reduced_csv, geo_lookup)\n",
    "wards_tenure = evaluation_helpers.get_filtered_df_ward_dict(\n",
    "    p, ward, df_ward, ward_codes, reduced_lookup, filter_dict\n",
    ")"
   ]
  },
  {
   "cell_type": "code",
   "execution_count": null,
   "metadata": {},
   "outputs": [],
   "source": [
    "ward_codes_full = reduced_csv.GeographyCode.values.tolist()"
   ]
  },
  {
   "cell_type": "code",
   "execution_count": null,
   "metadata": {},
   "outputs": [],
   "source": [
    "path_laplace = os.path.join(\n",
    "    p.get_bulk_data_path(), os.path.join(dp_folder_name, \"laplace\")\n",
    ")\n",
    "path_laplace_rounding = os.path.join(path_laplace, \"rounding\")\n",
    "path_laplace_clipping = os.path.join(path_laplace, \"clipping\")\n",
    "path_laplace_rounding_clipping = os.path.join(path_laplace, \"clipping_rounding\")"
   ]
  },
  {
   "cell_type": "code",
   "execution_count": null,
   "metadata": {},
   "outputs": [],
   "source": [
    "path_geometric = os.path.join(\n",
    "    p.get_bulk_data_path(), os.path.join(dp_folder_name, \"geometric\")\n",
    ")\n",
    "path_geometric_clipping = os.path.join(path_geometric, \"clipping\")"
   ]
  },
  {
   "cell_type": "markdown",
   "metadata": {},
   "source": [
    "The following code snippets only have to be run once to create the dp csv files, commented out for better performance of code "
   ]
  },
  {
   "cell_type": "code",
   "execution_count": null,
   "metadata": {},
   "outputs": [],
   "source": [
    "\"\"\" diff_priv_dataframe.apply_geometric_to_dataframe(\n",
    "    path_geometric,\n",
    "    reduced_csv,\n",
    "    datasets_reduced,\n",
    "    ward,\n",
    "    geo_lookup,\n",
    "    table_name_tenure,\n",
    "    sensitivity=2,\n",
    "    epsilons=epsilons_short,\n",
    "    clipping=False,\n",
    ") \"\"\""
   ]
  },
  {
   "cell_type": "code",
   "execution_count": null,
   "metadata": {},
   "outputs": [],
   "source": [
    "\"\"\" diff_priv_dataframe.apply_geometric_to_dataframe(\n",
    "    path_geometric_clipping,\n",
    "    reduced_csv,\n",
    "    datasets_reduced,\n",
    "    ward,\n",
    "    geo_lookup,\n",
    "    table_name_tenure,\n",
    "    sensitivity=2,\n",
    "    epsilons=epsilons_short,\n",
    "    clipping=True,\n",
    ") \"\"\""
   ]
  },
  {
   "cell_type": "code",
   "execution_count": null,
   "metadata": {},
   "outputs": [],
   "source": [
    "\"\"\" diff_priv_dataframe.apply_laplace_to_dataframe(\n",
    "    path_laplace,\n",
    "    reduced_csv,\n",
    "    datasets_reduced,\n",
    "    ward,\n",
    "    geo_lookup,\n",
    "    table_name_tenure,\n",
    "    sensitivity=2,\n",
    "    epsilons=epsilons_short,\n",
    "    clipping=False,\n",
    "    rounding=False,\n",
    ") \"\"\""
   ]
  },
  {
   "cell_type": "code",
   "execution_count": null,
   "metadata": {},
   "outputs": [],
   "source": [
    "\"\"\" diff_priv_dataframe.apply_laplace_to_dataframe(\n",
    "    path_laplace_rounding,\n",
    "    reduced_csv,\n",
    "    datasets_reduced,\n",
    "    ward,\n",
    "    geo_lookup,\n",
    "    table_name_tenure,\n",
    "    sensitivity=2,\n",
    "    epsilons=epsilons_short,\n",
    "    clipping=False,\n",
    "    rounding=True,\n",
    ") \"\"\""
   ]
  },
  {
   "cell_type": "code",
   "execution_count": null,
   "metadata": {},
   "outputs": [],
   "source": [
    "\"\"\" diff_priv_dataframe.apply_laplace_to_dataframe(\n",
    "    path_laplace_clipping,\n",
    "    reduced_csv,\n",
    "    datasets_reduced,\n",
    "    ward,\n",
    "    geo_lookup,\n",
    "    table_name_tenure,\n",
    "    sensitivity=2,\n",
    "    epsilons=epsilons_short,\n",
    "    clipping=True,\n",
    "    rounding=False,\n",
    ") \"\"\""
   ]
  },
  {
   "cell_type": "code",
   "execution_count": null,
   "metadata": {},
   "outputs": [],
   "source": [
    "\"\"\" diff_priv_dataframe.apply_laplace_to_dataframe(\n",
    "    path_laplace_rounding_clipping,\n",
    "    reduced_csv,\n",
    "    datasets_reduced,\n",
    "    ward,\n",
    "    geo_lookup,\n",
    "    table_name_tenure,\n",
    "    sensitivity=2,\n",
    "    epsilons=epsilons_short,\n",
    "    clipping=True,\n",
    "    rounding=True,\n",
    ") \"\"\""
   ]
  },
  {
   "cell_type": "code",
   "execution_count": null,
   "metadata": {},
   "outputs": [],
   "source": [
    "wards_laplace = evaluation_helpers.get_csv_dp_dict(\n",
    "    wards_tenure, epsilons_short, path_laplace, table_name_tenure\n",
    ")\n",
    "wards_laplace_rounding = evaluation_helpers.get_csv_dp_dict(\n",
    "    wards_tenure, epsilons_short, path_laplace_rounding, table_name_tenure\n",
    ")\n",
    "wards_laplace_clipping = evaluation_helpers.get_csv_dp_dict(\n",
    "    wards_tenure, epsilons_short, path_laplace_clipping, table_name_tenure\n",
    ")\n",
    "wards_laplace_rounding_clipping = evaluation_helpers.get_csv_dp_dict(\n",
    "    wards_tenure, epsilons_short, path_laplace_rounding_clipping, table_name_tenure\n",
    ")"
   ]
  },
  {
   "cell_type": "code",
   "execution_count": null,
   "metadata": {},
   "outputs": [],
   "source": [
    "wards_geometric = evaluation_helpers.get_csv_dp_dict(\n",
    "    wards_tenure, epsilons_short, path_geometric, table_name_tenure\n",
    ")\n",
    "wards_geometric_clipping = evaluation_helpers.get_csv_dp_dict(\n",
    "    wards_tenure, epsilons_short, path_geometric_clipping, table_name_tenure\n",
    ")"
   ]
  },
  {
   "cell_type": "code",
   "execution_count": null,
   "metadata": {},
   "outputs": [],
   "source": [
    "wards_tenure[\"E36006764\"][0]"
   ]
  }
 ],
 "metadata": {
  "kernelspec": {
   "display_name": "data_analysis-lrKLN5mI",
   "language": "python",
   "name": "python3"
  },
  "language_info": {
   "codemirror_mode": {
    "name": "ipython",
    "version": 3
   },
   "file_extension": ".py",
   "mimetype": "text/x-python",
   "name": "python",
   "nbconvert_exporter": "python",
   "pygments_lexer": "ipython3",
   "version": "3.12.3"
  }
 },
 "nbformat": 4,
 "nbformat_minor": 2
}
